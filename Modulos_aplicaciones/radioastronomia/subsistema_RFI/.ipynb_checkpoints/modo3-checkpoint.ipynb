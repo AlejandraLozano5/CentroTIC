{
 "cells": [
  {
   "cell_type": "code",
   "execution_count": 1,
   "metadata": {},
   "outputs": [],
   "source": [
    "import psycopg2\n",
    "import numpy\n",
    "import matplotlib.pyplot as plt\n",
    "import pandas as pd\n",
    "import seaborn as sns"
   ]
  },
  {
   "cell_type": "code",
   "execution_count": 2,
   "metadata": {},
   "outputs": [],
   "source": [
    "def promedio(espectro, nfft):\n",
    "    \"\"\" Realiza promedios del espectro,\n",
    "    debido a que las muestras estan almacenadas en un vector de tamano N\n",
    "    que se subdivide N/nfft veces y ese es el numero que se promedia (K)\"\"\"\n",
    "    K = int(len(espectro)/(nfft))\n",
    "    x = numpy.zeros(nfft)\n",
    "    for i in range(K):\n",
    "        x = x + espectro[i*nfft:(i+1)*nfft]\n",
    "    x = x/K\n",
    "    return x   "
   ]
  },
  {
   "cell_type": "code",
   "execution_count": 3,
   "metadata": {},
   "outputs": [],
   "source": [
    "conn = psycopg2.connect(database=\"centrotic\", user=\"postgres\",\n",
    "                      password=\"raspberry\", host=\"127.0.0.1\",\n",
    "                      port=\"5432\")\n",
    "cur = conn.cursor()"
   ]
  },
  {
   "cell_type": "code",
   "execution_count": 4,
   "metadata": {},
   "outputs": [],
   "source": [
    "azimut = 0\n",
    "query = []\n",
    "query.append(\"SELECT radioastronomia_espectro.espectro, radioastronomia_espectro.frec_central, radioastronomia_posicionantena.elevacion, radioastronomia_espectro.fecha \")\n",
    "query.append(\"FROM radioastronomia_espectro \")\n",
    "query.append(\"INNER JOIN radioastronomia_posicionantena \")\n",
    "query.append(\"ON date_trunc('second',radioastronomia_espectro.fecha)=date_trunc('second',radioastronomia_posicionantena.fecha) \")\n",
    "query.append(\"WHERE radioastronomia_posicionantena.azimut=0 \")\n",
    "query.append(\"AND radioastronomia_espectro.frec_central=112000000 \")\n",
    "query.append(\"AND radioastronomia_espectro.frec_muestreo = 16000000 \")\n",
    "query.append(\"AND radioastronomia_espectro.nfft = 1024 \")\n",
    "query.append(\"AND date_trunc('day', radioastronomia_espectro.fecha)>= to_date('2019-08-27', 'YYYY-MM-DD') \")\n",
    "query.append(\"AND date_trunc('day', radioastronomia_espectro.fecha)<=to_date('2019-08-27', 'YYYY-MM-DD') \")\n",
    "query.append(\"ORDER BY radioastronomia_posicionantena.elevacion;)\n",
    "query = \"\".join(query)"
   ]
  },
  {
   "cell_type": "code",
   "execution_count": 5,
   "metadata": {},
   "outputs": [
    {
     "name": "stdout",
     "output_type": "stream",
     "text": [
      "(112000000.0, 1024, 16000000, 1.0)\n"
     ]
    }
   ],
   "source": [
    "cur.execute(query, [azimut])\n",
    "rows = cur.fetchall()\n",
    "print(rows[0][1:])"
   ]
  },
  {
   "cell_type": "code",
   "execution_count": 6,
   "metadata": {},
   "outputs": [],
   "source": [
    "ener = []\n",
    "ele = []\n",
    "for row in rows:\n",
    "    espectro = row[0]\n",
    "    frec_central = row[1]\n",
    "    nfft = row[2]\n",
    "    frec_muestreo = row[3]\n",
    "    elevacion = row[4]\n",
    "    espectro = promedio(espectro, nfft)\n",
    "    ener.append(numpy.sum(10**(espectro/10)))\n",
    "    ele.append(elevacion)"
   ]
  },
  {
   "cell_type": "code",
   "execution_count": 12,
   "metadata": {},
   "outputs": [],
   "source": [
    "angular = {\"elevacion\": ele, \"energia\": ener}\n",
    "df = pd.DataFrame(data=angular)\n",
    "df = df.groupby(\"elevacion\")"
   ]
  },
  {
   "cell_type": "code",
   "execution_count": 13,
   "metadata": {},
   "outputs": [
    {
     "data": {
      "text/html": [
       "<div>\n",
       "<style scoped>\n",
       "    .dataframe tbody tr th:only-of-type {\n",
       "        vertical-align: middle;\n",
       "    }\n",
       "\n",
       "    .dataframe tbody tr th {\n",
       "        vertical-align: top;\n",
       "    }\n",
       "\n",
       "    .dataframe thead th {\n",
       "        text-align: right;\n",
       "    }\n",
       "</style>\n",
       "<table border=\"1\" class=\"dataframe\">\n",
       "  <thead>\n",
       "    <tr style=\"text-align: right;\">\n",
       "      <th></th>\n",
       "      <th>energia</th>\n",
       "    </tr>\n",
       "    <tr>\n",
       "      <th>elevacion</th>\n",
       "      <th></th>\n",
       "    </tr>\n",
       "  </thead>\n",
       "  <tbody>\n",
       "    <tr>\n",
       "      <th>1.0</th>\n",
       "      <td>0.000019</td>\n",
       "    </tr>\n",
       "    <tr>\n",
       "      <th>2.0</th>\n",
       "      <td>0.000019</td>\n",
       "    </tr>\n",
       "    <tr>\n",
       "      <th>10.0</th>\n",
       "      <td>0.000022</td>\n",
       "    </tr>\n",
       "    <tr>\n",
       "      <th>11.0</th>\n",
       "      <td>0.000024</td>\n",
       "    </tr>\n",
       "    <tr>\n",
       "      <th>12.0</th>\n",
       "      <td>0.000023</td>\n",
       "    </tr>\n",
       "  </tbody>\n",
       "</table>\n",
       "</div>"
      ],
      "text/plain": [
       "            energia\n",
       "elevacion          \n",
       "1.0        0.000019\n",
       "2.0        0.000019\n",
       "10.0       0.000022\n",
       "11.0       0.000024\n",
       "12.0       0.000023"
      ]
     },
     "execution_count": 13,
     "metadata": {},
     "output_type": "execute_result"
    }
   ],
   "source": [
    "dfm = df.mean()\n",
    "dfm.head()"
   ]
  },
  {
   "cell_type": "code",
   "execution_count": 14,
   "metadata": {},
   "outputs": [],
   "source": [
    "elevacion = dfm.index.tolist()\n",
    "elevacion = numpy.asarray(elevacion)\n",
    "elevacion = elevacion*numpy.pi/180\n",
    "energia = dfm[\"energia\"].tolist()\n",
    "energia = numpy.asarray(energia)\n",
    "energia = 10*numpy.log10(energia)"
   ]
  },
  {
   "cell_type": "code",
   "execution_count": 15,
   "metadata": {},
   "outputs": [
    {
     "data": {
      "text/plain": [
       "[<matplotlib.lines.Line2D at 0x7f5ccc0daac8>]"
      ]
     },
     "execution_count": 15,
     "metadata": {},
     "output_type": "execute_result"
    },
    {
     "data": {
      "image/png": "[encoded data removed]",
      "text/plain": [
       "<Figure size 432x288 with 1 Axes>"
      ]
     },
     "metadata": {},
     "output_type": "display_data"
    }
   ],
   "source": [
    "plt.polar(elevacion, energia)"
   ]
  },
  {
   "cell_type": "code",
   "execution_count": null,
   "metadata": {},
   "outputs": [],
   "source": []
  }
 ],
 "metadata": {
  "kernelspec": {
   "display_name": "Python 3",
   "language": "python",
   "name": "python3"
  },
  "language_info": {
   "codemirror_mode": {
    "name": "ipython",
    "version": 3
   },
   "file_extension": ".py",
   "mimetype": "text/x-python",
   "name": "python",
   "nbconvert_exporter": "python",
   "pygments_lexer": "ipython3",
   "version": "3.6.8"
  }
 },
 "nbformat": 4,
 "nbformat_minor": 2
}
