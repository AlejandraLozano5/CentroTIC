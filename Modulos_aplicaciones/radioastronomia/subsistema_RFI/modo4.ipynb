{
 "cells": [
  {
   "cell_type": "code",
   "execution_count": 1,
   "metadata": {},
   "outputs": [],
   "source": [
    "#comparacion por regiones"
   ]
  },
  {
   "cell_type": "code",
   "execution_count": 2,
   "metadata": {},
   "outputs": [],
   "source": [
    "import psycopg2\n",
    "import numpy\n",
    "import matplotlib.pyplot as plt\n",
    "import pandas as pd\n",
    "import seaborn as sns\n",
    "%matplotlib notebook\n",
    "\n",
    "def promedio(espectro, nfft):\n",
    "    \"\"\" Realiza promedios del espectro,\n",
    "    debido a que las muestras estan almacenadas en un vector de tamano N\n",
    "    que se subdivide N/nfft veces y ese es el numero que se promedia (K)\"\"\"\n",
    "    K = int(len(espectro)/(nfft))\n",
    "    x = numpy.zeros(nfft)\n",
    "    for i in range(K):\n",
    "        x = x + espectro[i*nfft:(i+1)*nfft]\n",
    "    x = x/K\n",
    "    return x   "
   ]
  },
  {
   "cell_type": "code",
   "execution_count": 3,
   "metadata": {},
   "outputs": [],
   "source": [
    "conn = psycopg2.connect(database=\"centrotic\", user=\"postgres\",\n",
    "                      password=\"raspberry\", host=\"127.0.0.1\",\n",
    "                      port=\"5432\")\n",
    "cur = conn.cursor()"
   ]
  },
  {
   "cell_type": "markdown",
   "metadata": {},
   "source": [
    "# seleccion de regiones"
   ]
  },
  {
   "cell_type": "code",
   "execution_count": 4,
   "metadata": {},
   "outputs": [],
   "source": [
    "query_region = []\n",
    "query_region.append(\"SELECT id, zona FROM radioastronomia_regioncampana;\")\n",
    "query_region = \"\".join(query_region)"
   ]
  },
  {
   "cell_type": "code",
   "execution_count": 5,
   "metadata": {},
   "outputs": [
    {
     "name": "stdout",
     "output_type": "stream",
     "text": [
      "SELECT id, zona FROM radioastronomia_regioncampana;\n"
     ]
    }
   ],
   "source": [
    "print(query_region)"
   ]
  },
  {
   "cell_type": "code",
   "execution_count": 6,
   "metadata": {},
   "outputs": [
    {
     "name": "stdout",
     "output_type": "stream",
     "text": [
      "[8]\n",
      "[(8, 'UIS'), (11, 'UIS2')]\n"
     ]
    }
   ],
   "source": [
    "cur.execute(query_region)\n",
    "rows = cur.fetchall()\n",
    "\n",
    "ids = [rows[0][0]]\n",
    "print(ids)\n",
    "print(rows)"
   ]
  },
  {
   "cell_type": "markdown",
   "metadata": {},
   "source": [
    "# Seleccion de frecuencia central"
   ]
  },
  {
   "cell_type": "code",
   "execution_count": 7,
   "metadata": {},
   "outputs": [
    {
     "name": "stdout",
     "output_type": "stream",
     "text": [
      "SELECT DISTINCT frec_central FROM radioastronomia_espectro ORDER BY frec_central;\n"
     ]
    }
   ],
   "source": [
    "query_freq = []\n",
    "query_freq.append(\"SELECT DISTINCT frec_central FROM radioastronomia_espectro ORDER BY frec_central;\")\n",
    "query_freq = \"\".join(query_freq)\n",
    "print(query_freq)"
   ]
  },
  {
   "cell_type": "code",
   "execution_count": 8,
   "metadata": {},
   "outputs": [],
   "source": [
    "cur.execute(query_freq)\n",
    "frec_central = cur.fetchall()"
   ]
  },
  {
   "cell_type": "code",
   "execution_count": 9,
   "metadata": {},
   "outputs": [],
   "source": [
    "for i in ids:\n",
    "    y = numpy.array([])\n",
    "    freq = numpy.array([])\n",
    "    for frec_cen in frec_central[:4]:\n",
    "        query_espectro = \"SELECT espectro FROM radioastronomia_espectro WHERE frec_central = %s AND region_id = %s\"\n",
    "        cur.execute(query_espectro, [frec_cen[0], i])\n",
    "        rows = cur.fetchall()\n",
    "        \n",
    "        x_ = numpy.zeros(1024)\n",
    "        for row in rows:\n",
    "            espectro = row[0]\n",
    "            espectro = numpy.asarray(espectro)\n",
    "            x = promedio(espectro, 1024)\n",
    "            x_ = x_ + x\n",
    "        x_ = x_/len(rows)\n",
    "        freq = numpy.append(freq, numpy.arange(-int(1024/2),int(1024/2),1)*4000000/(1024*2) + frec_cen[0])\n",
    "        y = numpy.append(y,x_)"
   ]
  },
  {
   "cell_type": "code",
   "execution_count": 10,
   "metadata": {},
   "outputs": [
    {
     "data": {
      "image/png": "[encoded data removed]",
      "text/plain": [
       "<Figure size 432x288 with 1 Axes>"
      ]
     },
     "metadata": {},
     "output_type": "display_data"
    }
   ],
   "source": [
    "plt.plot(freq/1e6, y)\n",
    "plt.xlabel(\"Frecuencia MHz\")\n",
    "plt.ylabel(\"Espectro\")\n",
    "plt.grid(True)"
   ]
  },
  {
   "cell_type": "markdown",
   "metadata": {},
   "source": [
    "# Caracteristicas para comparacion de zonas"
   ]
  },
  {
   "cell_type": "code",
   "execution_count": 11,
   "metadata": {},
   "outputs": [
    {
     "name": "stdout",
     "output_type": "stream",
     "text": [
      "               Espectro\n",
      "7.700000e+07 -71.669738\n",
      "7.700195e+07 -71.703173\n",
      "7.700391e+07 -71.777141\n",
      "7.700586e+07 -71.811265\n",
      "7.700781e+07 -71.756214\n",
      "<class 'pandas.core.frame.DataFrame'>\n",
      "Float64Index: 4096 entries, 77000000.0 to 84998046.875\n",
      "Data columns (total 1 columns):\n",
      "Espectro    4096 non-null float64\n",
      "dtypes: float64(1)\n",
      "memory usage: 64.0 KB\n",
      "None\n",
      "          Espectro\n",
      "count  4096.000000\n",
      "mean    -69.653941\n",
      "std       1.700555\n",
      "min     -75.122615\n",
      "25%     -70.929113\n",
      "50%     -69.110845\n",
      "75%     -68.548369\n",
      "max     -51.538434\n"
     ]
    }
   ],
   "source": [
    "df = pd.DataFrame(data=y, index=freq, columns=[\"Espectro\"])\n",
    "print(df.head())\n",
    "print(df.info())\n",
    "print(df.describe())"
   ]
  },
  {
   "cell_type": "code",
   "execution_count": 12,
   "metadata": {},
   "outputs": [],
   "source": [
    "#caracteristicas \n",
    "energia = 10*numpy.log10(numpy.sum(10**(y/10)))\n",
    "media = numpy.mean(y)\n",
    "mediana = numpy.median(y)\n",
    "std = numpy.std(y)\n",
    "max_ = numpy.max(y)\n",
    "min_ = numpy.min(y)"
   ]
  },
  {
   "cell_type": "code",
   "execution_count": 46,
   "metadata": {},
   "outputs": [
    {
     "name": "stdout",
     "output_type": "stream",
     "text": [
      "        ener      media    mediana       std        max        min\n",
      "0 -33.126296 -69.653941 -69.110845  1.700348 -51.538434 -75.122615\n",
      "1 -23.126296 -68.653941 -68.110845  2.700348 -50.538434 -74.122615\n",
      "2 -32.340729 -67.653941 -67.110845  3.700348 -49.538434 -73.122615\n"
     ]
    }
   ],
   "source": [
    "ener = [energia, energia+10, energia+numpy.random.random()]\n",
    "media_ = [media, media+1, media+2]\n",
    "mediana_ = [mediana, mediana+1, mediana+2]\n",
    "std_ = [std, std+1, std+2]\n",
    "max__ = [max_, max_+1, max_+2]\n",
    "min__ = [min_, min_+1, min_+2]\n",
    "\n",
    "columns = [\"ener\", \"media\", \"mediana\", \"std\", \"max\", \"min\"] \n",
    "X = numpy.vstack([ener, media_, mediana_, std_, max__, min__])\n",
    "\n",
    "df = pd.DataFrame(data=X.T, columns=columns)\n",
    "target =[1,2,2]\n",
    "print(df.head())"
   ]
  },
  {
   "cell_type": "code",
   "execution_count": 55,
   "metadata": {},
   "outputs": [],
   "source": [
    "from sklearn.preprocessing import StandardScaler"
   ]
  },
  {
   "cell_type": "code",
   "execution_count": 48,
   "metadata": {},
   "outputs": [],
   "source": [
    "scaler = StandardScaler()\n",
    "scaler.fit(df)\n",
    "scaled_data = scaler.transform(df)"
   ]
  },
  {
   "cell_type": "code",
   "execution_count": 49,
   "metadata": {},
   "outputs": [],
   "source": [
    "#PCA\n",
    "from sklearn.decomposition import PCA"
   ]
  },
  {
   "cell_type": "code",
   "execution_count": 50,
   "metadata": {},
   "outputs": [
    {
     "name": "stdout",
     "output_type": "stream",
     "text": [
      "[[ 2.76768195 -0.68334974]\n",
      " [-0.05557394  1.40958592]\n",
      " [-2.71210801 -0.72623618]]\n"
     ]
    }
   ],
   "source": [
    "pca = PCA(n_components=2)\n",
    "pca.fit(scaled_data)\n",
    "x_pca = pca.transform(scaled_data)\n",
    "print(x_pca)"
   ]
  },
  {
   "cell_type": "code",
   "execution_count": 57,
   "metadata": {},
   "outputs": [
    {
     "data": {
      "text/plain": [
       "<matplotlib.collections.PathCollection at 0x7f083714c4a8>"
      ]
     },
     "execution_count": 57,
     "metadata": {},
     "output_type": "execute_result"
    },
    {
     "data": {
      "image/png": "[encoded data removed]",
      "text/plain": [
       "<Figure size 432x288 with 1 Axes>"
      ]
     },
     "metadata": {},
     "output_type": "display_data"
    }
   ],
   "source": [
    "plt.scatter(x_pca[:,0], x_pca[:,1], c=target, cmap=\"plasma\")"
   ]
  },
  {
   "cell_type": "code",
   "execution_count": 45,
   "metadata": {},
   "outputs": [],
   "source": [
    "conn.close()"
   ]
  },
  {
   "cell_type": "code",
   "execution_count": null,
   "metadata": {},
   "outputs": [],
   "source": []
  }
 ],
 "metadata": {
  "kernelspec": {
   "display_name": "Python 3",
   "language": "python",
   "name": "python3"
  },
  "language_info": {
   "codemirror_mode": {
    "name": "ipython",
    "version": 3
   },
   "file_extension": ".py",
   "mimetype": "text/x-python",
   "name": "python",
   "nbconvert_exporter": "python",
   "pygments_lexer": "ipython3",
   "version": "3.6.8"
  }
 },
 "nbformat": 4,
 "nbformat_minor": 2
}
