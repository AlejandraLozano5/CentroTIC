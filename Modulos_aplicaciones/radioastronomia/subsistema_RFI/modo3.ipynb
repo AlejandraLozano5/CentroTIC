{
 "cells": [
  {
   "cell_type": "code",
   "execution_count": 1,
   "metadata": {},
   "outputs": [],
   "source": [
    "import psycopg2\n",
    "import numpy\n",
    "import matplotlib.pyplot as plt\n",
    "import pandas as pd\n",
    "import seaborn as sns"
   ]
  },
  {
   "cell_type": "code",
   "execution_count": 2,
   "metadata": {},
   "outputs": [],
   "source": [
    "def promedio(espectro, nfft):\n",
    "    \"\"\" Realiza promedios del espectro,\n",
    "    debido a que las muestras estan almacenadas en un vector de tamano N\n",
    "    que se subdivide N/nfft veces y ese es el numero que se promedia (K)\"\"\"\n",
    "    K = int(len(espectro)/(nfft))\n",
    "    x = numpy.zeros(nfft)\n",
    "    for i in range(K):\n",
    "        x = x + espectro[i*nfft:(i+1)*nfft]\n",
    "    x = x/K\n",
    "    return x   "
   ]
  },
  {
   "cell_type": "code",
   "execution_count": 3,
   "metadata": {},
   "outputs": [],
   "source": [
    "conn = psycopg2.connect(database=\"centrotic\", user=\"postgres\",\n",
    "                      password=\"raspberry\", host=\"127.0.0.1\",\n",
    "                      port=\"5432\")\n",
    "cur = conn.cursor()"
   ]
  },
  {
   "cell_type": "code",
   "execution_count": 40,
   "metadata": {},
   "outputs": [
    {
     "name": "stdout",
     "output_type": "stream",
     "text": [
      "SELECT radioastronomia_espectro.espectro, radioastronomia_espectro.frec_central, radioastronomia_posicionantena.elevacion, radioastronomia_espectro.fecha FROM radioastronomia_espectro INNER JOIN radioastronomia_posicionantena ON date_trunc('second',radioastronomia_espectro.fecha)=date_trunc('second',radioastronomia_posicionantena.fecha) WHERE radioastronomia_posicionantena.azimut= %s AND radioastronomia_espectro.frec_central=%s AND radioastronomia_espectro.frec_muestreo = %s AND radioastronomia_espectro.nfft = %s AND date_trunc('day', radioastronomia_espectro.fecha)>= to_date(%s, 'YYYY-MM-DD') AND date_trunc('day', radioastronomia_espectro.fecha)<=to_date(%s, 'YYYY-MM-DD') ORDER BY radioastronomia_posicionantena.elevacion;\n"
     ]
    }
   ],
   "source": [
    "azimut = 0\n",
    "nfft = 1024\n",
    "frec_central = 112000000\n",
    "frec_muestreo = 16000000\n",
    "inidate = '2019-08-27'\n",
    "enddate = '2019-08-27'\n",
    "query = []\n",
    "query.append(\"SELECT radioastronomia_espectro.espectro, radioastronomia_espectro.frec_central, radioastronomia_posicionantena.elevacion, radioastronomia_espectro.fecha \")\n",
    "query.append(\"FROM radioastronomia_espectro \")\n",
    "query.append(\"INNER JOIN radioastronomia_posicionantena \")\n",
    "query.append(\"ON date_trunc('second',radioastronomia_espectro.fecha)=date_trunc('second',radioastronomia_posicionantena.fecha) \")\n",
    "query.append(\"WHERE radioastronomia_posicionantena.azimut= %s \")\n",
    "query.append(\"AND radioastronomia_espectro.frec_central=%s \")\n",
    "query.append(\"AND radioastronomia_espectro.frec_muestreo = %s \")\n",
    "query.append(\"AND radioastronomia_espectro.nfft = %s \")\n",
    "query.append(\"AND date_trunc('day', radioastronomia_espectro.fecha)>= to_date(%s, 'YYYY-MM-DD') \")\n",
    "query.append(\"AND date_trunc('day', radioastronomia_espectro.fecha)<=to_date(%s, 'YYYY-MM-DD') \")\n",
    "query.append(\"ORDER BY radioastronomia_posicionantena.elevacion;\")\n",
    "query = \"\".join(query)\n",
    "print(query)"
   ]
  },
  {
   "cell_type": "code",
   "execution_count": 41,
   "metadata": {},
   "outputs": [
    {
     "name": "stdout",
     "output_type": "stream",
     "text": [
      "(112000000.0, 1.0, datetime.datetime(2019, 8, 27, 9, 26, 5, 400937, tzinfo=psycopg2.tz.FixedOffsetTimezone(offset=-300, name=None)))\n"
     ]
    }
   ],
   "source": [
    "cur.execute(query,[azimut, frec_central, frec_muestreo, nfft, inidate, enddate])\n",
    "rows = cur.fetchall()\n",
    "print(rows[0][1:])"
   ]
  },
  {
   "cell_type": "code",
   "execution_count": 42,
   "metadata": {},
   "outputs": [],
   "source": [
    "ener = []\n",
    "ele = []\n",
    "for row in rows:\n",
    "    espectro = row[0]\n",
    "    elevacion = row[2]\n",
    "    espectro = promedio(espectro, nfft)\n",
    "    ener.append(numpy.sum(10**(espectro/10)))\n",
    "    ele.append(elevacion)"
   ]
  },
  {
   "cell_type": "code",
   "execution_count": 43,
   "metadata": {},
   "outputs": [],
   "source": [
    "angular = {\"elevacion\": ele, \"energia\": ener}\n",
    "df = pd.DataFrame(data=angular)\n",
    "df = df.groupby(\"elevacion\")"
   ]
  },
  {
   "cell_type": "code",
   "execution_count": 44,
   "metadata": {},
   "outputs": [
    {
     "data": {
      "text/html": [
       "<div>\n",
       "<style scoped>\n",
       "    .dataframe tbody tr th:only-of-type {\n",
       "        vertical-align: middle;\n",
       "    }\n",
       "\n",
       "    .dataframe tbody tr th {\n",
       "        vertical-align: top;\n",
       "    }\n",
       "\n",
       "    .dataframe thead th {\n",
       "        text-align: right;\n",
       "    }\n",
       "</style>\n",
       "<table border=\"1\" class=\"dataframe\">\n",
       "  <thead>\n",
       "    <tr style=\"text-align: right;\">\n",
       "      <th></th>\n",
       "      <th>energia</th>\n",
       "    </tr>\n",
       "    <tr>\n",
       "      <th>elevacion</th>\n",
       "      <th></th>\n",
       "    </tr>\n",
       "  </thead>\n",
       "  <tbody>\n",
       "    <tr>\n",
       "      <th>1.0</th>\n",
       "      <td>0.000015</td>\n",
       "    </tr>\n",
       "    <tr>\n",
       "      <th>2.0</th>\n",
       "      <td>0.000016</td>\n",
       "    </tr>\n",
       "  </tbody>\n",
       "</table>\n",
       "</div>"
      ],
      "text/plain": [
       "            energia\n",
       "elevacion          \n",
       "1.0        0.000015\n",
       "2.0        0.000016"
      ]
     },
     "execution_count": 44,
     "metadata": {},
     "output_type": "execute_result"
    }
   ],
   "source": [
    "dfm = df.mean()\n",
    "dfm.head()"
   ]
  },
  {
   "cell_type": "code",
   "execution_count": 45,
   "metadata": {},
   "outputs": [],
   "source": [
    "elevacion = dfm.index.tolist()\n",
    "elevacion = numpy.asarray(elevacion)\n",
    "elevacion = elevacion*numpy.pi/180\n",
    "energia = dfm[\"energia\"].tolist()\n",
    "energia = numpy.asarray(energia)\n",
    "energia =energia*1e6"
   ]
  },
  {
   "cell_type": "code",
   "execution_count": 46,
   "metadata": {},
   "outputs": [
    {
     "data": {
      "text/plain": [
       "[<matplotlib.lines.Line2D at 0x7f5cd2af6940>]"
      ]
     },
     "execution_count": 46,
     "metadata": {},
     "output_type": "execute_result"
    },
    {
     "data": {
      "image/png": "[encoded data removed]",
      "text/plain": [
       "<Figure size 432x288 with 1 Axes>"
      ]
     },
     "metadata": {},
     "output_type": "display_data"
    }
   ],
   "source": [
    "plt.polar(elevacion, energia)"
   ]
  },
  {
   "cell_type": "code",
   "execution_count": null,
   "metadata": {},
   "outputs": [],
   "source": []
  }
 ],
 "metadata": {
  "kernelspec": {
   "display_name": "Python 3",
   "language": "python",
   "name": "python3"
  },
  "language_info": {
   "codemirror_mode": {
    "name": "ipython",
    "version": 3
   },
   "file_extension": ".py",
   "mimetype": "text/x-python",
   "name": "python",
   "nbconvert_exporter": "python",
   "pygments_lexer": "ipython3",
   "version": "3.6.8"
  }
 },
 "nbformat": 4,
 "nbformat_minor": 2
}
