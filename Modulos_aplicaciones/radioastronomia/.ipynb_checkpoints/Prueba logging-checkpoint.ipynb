{
 "cells": [
  {
   "cell_type": "code",
   "execution_count": 1,
   "metadata": {},
   "outputs": [],
   "source": [
    "import logging"
   ]
  },
  {
   "cell_type": "code",
   "execution_count": 2,
   "metadata": {},
   "outputs": [],
   "source": [
    "def logs(level, msg, st):\n",
    "    \"\"\"entradas:\n",
    "    msg: string, por ejemplo '{variable} esta variable es critica'\n",
    "    level: puede ser 'error', 'critical', 'warning', 'info'\n",
    "    st: por defecto es False, cuando es True es cuando exclusivamente queremos \n",
    "    capturar los errores de las exepciones de los errores\n",
    "    \"\"\"\n",
    "    logging.basicConfig(filename=\"output.log\", filemode=\"w\", format='%(asctime)s - %(levelname)s- %(message)s', level=logging.INFO)\n",
    "    \n",
    "    if level==\"error\" and st=False:\n",
    "        \"\"\"cuando entra en las exepciones \"\"\"\n",
    "        logging.error(msg)\n",
    "    elif level==\"error\" and st=True:\n",
    "        \"\"\"exclusivo si queremos capturar exepciones\"\"\"\n",
    "        logging.error(msg, exc_info=True)\n",
    "    elif level==\"critical\":\n",
    "        \"\"\"cuando algun valor es cero o algo asi\"\"\"\n",
    "        logging.critical(msg)\n",
    "    elif level==\"warning\":\n",
    "        \"\"\"cuando alguna rutina puede trabajar pero no del todo bien\"\"\"\n",
    "        logging.warning(msg)\n",
    "    elif level==\"info\":\n",
    "        logging.info(msg)\n",
    "        "
   ]
  },
  {
   "cell_type": "code",
   "execution_count": 3,
   "metadata": {},
   "outputs": [],
   "source": [
    "logs(\"info\", \"consulta exitosa\", False)\n",
    "logs(\"warning\", \"Ha actualizado un valor\", False)\n",
    "logs(\"warning\", \"ha borrado un valor\", False)\n",
    "logs(\"info\", \"Operacion del sistema exitosa\", False)\n",
    "logs(\"critical\", \"no se puede hacer la operacion matemmatica\", False)\n",
    "logs(\"error\", \"ha entrado a la exepcion\", False)"
   ]
  },
  {
   "cell_type": "code",
   "execution_count": null,
   "metadata": {},
   "outputs": [],
   "source": [
    "try:\n",
    "    a = 20/0\n",
    "except:\n",
    "    logs(\"error\", \"un error ni el mas ...\", True)"
   ]
  }
 ],
 "metadata": {
  "kernelspec": {
   "display_name": "Python 3",
   "language": "python",
   "name": "python3"
  },
  "language_info": {
   "codemirror_mode": {
    "name": "ipython",
    "version": 3
   },
   "file_extension": ".py",
   "mimetype": "text/x-python",
   "name": "python",
   "nbconvert_exporter": "python",
   "pygments_lexer": "ipython3",
   "version": "3.6.8"
  }
 },
 "nbformat": 4,
 "nbformat_minor": 2
}
